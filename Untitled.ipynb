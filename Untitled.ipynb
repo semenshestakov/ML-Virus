{
 "cells": [
  {
   "cell_type": "code",
   "execution_count": 1,
   "id": "815900c7",
   "metadata": {},
   "outputs": [],
   "source": [
    "import data\n",
    "import model as M\n",
    "import tensorflow as tf\n",
    "import pandas as pd\n",
    "import numpy as np"
   ]
  },
  {
   "cell_type": "code",
   "execution_count": 2,
   "id": "4b73eec8",
   "metadata": {},
   "outputs": [
    {
     "data": {
      "text/html": [
       "<div>\n",
       "<style scoped>\n",
       "    .dataframe tbody tr th:only-of-type {\n",
       "        vertical-align: middle;\n",
       "    }\n",
       "\n",
       "    .dataframe tbody tr th {\n",
       "        vertical-align: top;\n",
       "    }\n",
       "\n",
       "    .dataframe thead th {\n",
       "        text-align: right;\n",
       "    }\n",
       "</style>\n",
       "<table border=\"1\" class=\"dataframe\">\n",
       "  <thead>\n",
       "    <tr style=\"text-align: right;\">\n",
       "      <th></th>\n",
       "      <th>is_virus</th>\n",
       "      <th>filename</th>\n",
       "      <th>libs</th>\n",
       "    </tr>\n",
       "  </thead>\n",
       "  <tbody>\n",
       "    <tr>\n",
       "      <th>0</th>\n",
       "      <td>1</td>\n",
       "      <td>2020-02-17T21_09_26+00_00_107385.exe</td>\n",
       "      <td>[kernel32.dll, advapi32.dll, comctl32.dll, gdi...</td>\n",
       "    </tr>\n",
       "    <tr>\n",
       "      <th>1</th>\n",
       "      <td>0</td>\n",
       "      <td>tac.exe</td>\n",
       "      <td>[msys-intl-8.dll, msys-2.0.dll, kernel32.dll]</td>\n",
       "    </tr>\n",
       "    <tr>\n",
       "      <th>2</th>\n",
       "      <td>1</td>\n",
       "      <td>VirusShare_eabeaf414d1b87659870918dc7f03f8a</td>\n",
       "      <td>[kernel32.dll]</td>\n",
       "    </tr>\n",
       "    <tr>\n",
       "      <th>3</th>\n",
       "      <td>1</td>\n",
       "      <td>VirusShare_f528efa5b5ba6643b7eb9cf4264d37e4</td>\n",
       "      <td>[kernel32.dll]</td>\n",
       "    </tr>\n",
       "    <tr>\n",
       "      <th>4</th>\n",
       "      <td>1</td>\n",
       "      <td>2019-08-14T00_52_23+00_00_60898.exe</td>\n",
       "      <td>[msvbvm60.dll]</td>\n",
       "    </tr>\n",
       "    <tr>\n",
       "      <th>...</th>\n",
       "      <td>...</td>\n",
       "      <td>...</td>\n",
       "      <td>...</td>\n",
       "    </tr>\n",
       "    <tr>\n",
       "      <th>1195</th>\n",
       "      <td>1</td>\n",
       "      <td>2020-02-17T21_09_26+00_00_120625.exe</td>\n",
       "      <td>[mscoree.dll]</td>\n",
       "    </tr>\n",
       "    <tr>\n",
       "      <th>1196</th>\n",
       "      <td>0</td>\n",
       "      <td>REXServerCOM.exe</td>\n",
       "      <td>[version.dll, kernel32.dll, user32.dll, advapi...</td>\n",
       "    </tr>\n",
       "    <tr>\n",
       "      <th>1197</th>\n",
       "      <td>1</td>\n",
       "      <td>VirusShare_0caf23c4668f7e21896d8c9393eb3f41</td>\n",
       "      <td>[kernel32.dll, gdi32.dll, msvcrt.dll, user32.dll]</td>\n",
       "    </tr>\n",
       "    <tr>\n",
       "      <th>1198</th>\n",
       "      <td>0</td>\n",
       "      <td>wsmprovhost.exe</td>\n",
       "      <td>[msvcrt.dll, api-ms-win-eventing-classicprovid...</td>\n",
       "    </tr>\n",
       "    <tr>\n",
       "      <th>1199</th>\n",
       "      <td>1</td>\n",
       "      <td>2020-02-17T21_09_26+00_00_121678.exe</td>\n",
       "      <td>[kernel32.dll, advapi32.dll, comctl32.dll, com...</td>\n",
       "    </tr>\n",
       "  </tbody>\n",
       "</table>\n",
       "<p>1200 rows × 3 columns</p>\n",
       "</div>"
      ],
      "text/plain": [
       "      is_virus                                     filename   \n",
       "0            1         2020-02-17T21_09_26+00_00_107385.exe  \\\n",
       "1            0                                      tac.exe   \n",
       "2            1  VirusShare_eabeaf414d1b87659870918dc7f03f8a   \n",
       "3            1  VirusShare_f528efa5b5ba6643b7eb9cf4264d37e4   \n",
       "4            1          2019-08-14T00_52_23+00_00_60898.exe   \n",
       "...        ...                                          ...   \n",
       "1195         1         2020-02-17T21_09_26+00_00_120625.exe   \n",
       "1196         0                             REXServerCOM.exe   \n",
       "1197         1  VirusShare_0caf23c4668f7e21896d8c9393eb3f41   \n",
       "1198         0                              wsmprovhost.exe   \n",
       "1199         1         2020-02-17T21_09_26+00_00_121678.exe   \n",
       "\n",
       "                                                   libs  \n",
       "0     [kernel32.dll, advapi32.dll, comctl32.dll, gdi...  \n",
       "1         [msys-intl-8.dll, msys-2.0.dll, kernel32.dll]  \n",
       "2                                        [kernel32.dll]  \n",
       "3                                        [kernel32.dll]  \n",
       "4                                        [msvbvm60.dll]  \n",
       "...                                                 ...  \n",
       "1195                                      [mscoree.dll]  \n",
       "1196  [version.dll, kernel32.dll, user32.dll, advapi...  \n",
       "1197  [kernel32.dll, gdi32.dll, msvcrt.dll, user32.dll]  \n",
       "1198  [msvcrt.dll, api-ms-win-eventing-classicprovid...  \n",
       "1199  [kernel32.dll, advapi32.dll, comctl32.dll, com...  \n",
       "\n",
       "[1200 rows x 3 columns]"
      ]
     },
     "execution_count": 2,
     "metadata": {},
     "output_type": "execute_result"
    }
   ],
   "source": [
    "val_data = data.clear_data(pd.read_csv(\"data/val.tsv\", sep=\"\\t\"))\n",
    "val_data"
   ]
  },
  {
   "cell_type": "code",
   "execution_count": 3,
   "id": "6862d650",
   "metadata": {},
   "outputs": [
    {
     "data": {
      "text/plain": [
       "((1200, 126, 52, 40), (1200, 1))"
      ]
     },
     "execution_count": 3,
     "metadata": {},
     "output_type": "execute_result"
    }
   ],
   "source": [
    "tk = data.learning_tk(d=\"data/\")\n",
    "\n",
    "x_val,y_val = data.get_data(tk,status=\"val\",d=\"data/\")\n",
    "x_val.shape, y_val.shape"
   ]
  },
  {
   "cell_type": "code",
   "execution_count": 4,
   "id": "43145fc5",
   "metadata": {},
   "outputs": [
    {
     "name": "stdout",
     "output_type": "stream",
     "text": [
      "Model: \"model_2\"\n",
      "_________________________________________________________________\n",
      " Layer (type)                Output Shape              Param #   \n",
      "=================================================================\n",
      " input_1 (InputLayer)        [(None, 126, 52, 40)]     0         \n",
      "                                                                 \n",
      " model (Functional)          (None, 126, 52)           45057     \n",
      "                                                                 \n",
      " model_1 (Functional)        (None, 1)                 99889     \n",
      "                                                                 \n",
      "=================================================================\n",
      "Total params: 144,946\n",
      "Trainable params: 143,978\n",
      "Non-trainable params: 968\n",
      "_________________________________________________________________\n"
     ]
    }
   ],
   "source": [
    "l_model = M.get_model_for_letters() # 13568 None, 126, 52, 40 -> none 126 52\n",
    "w_model = M.get_model_for_words() # 94791 none 126 52 -> none 1 \n",
    "\n",
    "inp = l_model.input\n",
    "x = l_model(inp)\n",
    "x = w_model(x)\n",
    "\n",
    "model = tf.keras.Model(inp,x)\n",
    "model.compile(\n",
    "    loss = tf.keras.losses.BinaryCrossentropy(),\n",
    "    optimizer=tf.keras.optimizers.Adam(),\n",
    "    metrics=M.metrics\n",
    ")\n",
    "model.summary()"
   ]
  },
  {
   "cell_type": "code",
   "execution_count": null,
   "id": "36257c43",
   "metadata": {},
   "outputs": [
    {
     "name": "stdout",
     "output_type": "stream",
     "text": [
      "Epoch: 1\n"
     ]
    },
    {
     "name": "stderr",
     "output_type": "stream",
     "text": [
      "2024-01-23 23:23:15.797996: W tensorflow/tsl/platform/profile_utils/cpu_utils.cc:128] Failed to get CPU frequency: 0 Hz\n"
     ]
    },
    {
     "name": "stdout",
     "output_type": "stream",
     "text": [
      "loss: 0.6931068301200867\n",
      "True positive: 792.0\n",
      "False positive: 384.0\n",
      "True negative: 16.0\n",
      "False negative: 8.0\n",
      "Accuracy: 0.6733333468437195\n",
      "Precision: 0.6734693646430969\n",
      "Recall: 0.9900000095367432\n",
      "=========================\n"
     ]
    }
   ],
   "source": [
    "ep = 1\n",
    "t = 5\n",
    "losses = []\n",
    "for e in range(1,ep+1):\n",
    "    print(f\"Epoch: {e}\")\n",
    "    gen = data.generator_data(tk, \"train\",\"data/\")\n",
    "    \n",
    "    for (x,y) in gen:\n",
    "        model.train_on_batch(x,y)\n",
    "        \n",
    "        if t % 5 == 0:\n",
    "            \n",
    "            m = model.test_on_batch(x_val,y_val,reset_metrics=True,return_dict=True)\n",
    "            M.print_metrics(m)\n",
    "            losses.append(M)\n",
    "            print(\"=\"*25)\n",
    "            \n",
    "        t+=1"
   ]
  },
  {
   "cell_type": "code",
   "execution_count": null,
   "id": "babaa415",
   "metadata": {},
   "outputs": [],
   "source": [
    "import matplotlib.pyplot as plt"
   ]
  },
  {
   "cell_type": "code",
   "execution_count": null,
   "id": "0e117722",
   "metadata": {},
   "outputs": [],
   "source": [
    "ptl.plot()"
   ]
  },
  {
   "cell_type": "code",
   "execution_count": null,
   "id": "4ba9120f",
   "metadata": {},
   "outputs": [],
   "source": []
  }
 ],
 "metadata": {
  "kernelspec": {
   "display_name": "Python 3 (ipykernel)",
   "language": "python",
   "name": "python3"
  },
  "language_info": {
   "codemirror_mode": {
    "name": "ipython",
    "version": 3
   },
   "file_extension": ".py",
   "mimetype": "text/x-python",
   "name": "python",
   "nbconvert_exporter": "python",
   "pygments_lexer": "ipython3",
   "version": "3.10.11"
  },
  "nbTranslate": {
   "displayLangs": [
    "*"
   ],
   "hotkey": "alt-t",
   "langInMainMenu": true,
   "sourceLang": "en",
   "targetLang": "fr",
   "useGoogleTranslate": true
  }
 },
 "nbformat": 4,
 "nbformat_minor": 5
}
